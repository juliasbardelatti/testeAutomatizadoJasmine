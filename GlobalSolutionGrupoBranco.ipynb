{
  "nbformat": 4,
  "nbformat_minor": 0,
  "metadata": {
    "colab": {
      "name": "GlobalSolutionGrupoBranco.ipynb",
      "provenance": [],
      "authorship_tag": "ABX9TyNNmKaUSXYvrbznBTKJMFq4",
      "include_colab_link": true
    },
    "kernelspec": {
      "display_name": "Python 3",
      "name": "python3"
    },
    "language_info": {
      "name": "python"
    }
  },
  "cells": [
    {
      "cell_type": "markdown",
      "metadata": {
        "id": "view-in-github",
        "colab_type": "text"
      },
      "source": [
        "<a href=\"https://colab.research.google.com/github/juliasbardelatti/testeAutomatizadoJasmine/blob/main/GlobalSolutionGrupoBranco.ipynb\" target=\"_parent\"><img src=\"https://colab.research.google.com/assets/colab-badge.svg\" alt=\"Open In Colab\"/></a>"
      ]
    },
    {
      "cell_type": "markdown",
      "metadata": {
        "id": "hV1gNgslWKr0"
      },
      "source": [
        "## **Grupo branco:**\n",
        "- Antonny Mendonça: 89014 \n",
        "- Júlia Sbardelatti: 87395 \n",
        "- Rafael Soares Monteiro: 88668 \n",
        "- Wellington dos Santos: 87743\n",
        "\n"
      ]
    },
    {
      "cell_type": "code",
      "metadata": {
        "id": "cetZGH_LHg4r"
      },
      "source": [
        "import numpy as np\n",
        "import matplotlib.pyplot as plt\n",
        "\n",
        "from skimage.io import imread\n",
        "\n",
        "import cv2\n",
        "from google.colab.patches import cv2_imshow\n",
        "\n",
        "from pathfinding.core.grid import Grid\n",
        "from pathfinding.finder.a_star import AStarFinder\n",
        "from pathfinding.core.diagonal_movement import DiagonalMovement"
      ],
      "execution_count": null,
      "outputs": []
    },
    {
      "cell_type": "markdown",
      "metadata": {
        "id": "xfWT8hhtAvd3"
      },
      "source": [
        "# Melhoramos a imagem binária para o fundo branco"
      ]
    },
    {
      "cell_type": "code",
      "metadata": {
        "id": "MlCJ0-XeQF2n"
      },
      "source": [
        "img = cv2.imread('/content/gs-1tiar.JPG')\n",
        "kernel = np.ones((3,3),np.uint8)"
      ],
      "execution_count": null,
      "outputs": []
    },
    {
      "cell_type": "code",
      "metadata": {
        "id": "o_O4denYQHyZ"
      },
      "source": [
        "\n",
        "# Utilização do morphologyEx e blur\n",
        "closing = cv2.morphologyEx(img,cv2.MORPH_CLOSE,kernel, iterations = 2)\n",
        "blur = cv2.blur(closing,(36,36))"
      ],
      "execution_count": null,
      "outputs": []
    },
    {
      "cell_type": "code",
      "metadata": {
        "id": "u1FshKT5QNRJ"
      },
      "source": [
        "gray = cv2.cvtColor(blur,cv2.COLOR_BGR2GRAY)\n",
        "_, mask = cv2.threshold(gray,103,255,cv2.THRESH_BINARY)"
      ],
      "execution_count": null,
      "outputs": []
    },
    {
      "cell_type": "code",
      "metadata": {
        "colab": {
          "base_uri": "https://localhost:8080/",
          "height": 802
        },
        "id": "eOxy_c1x8ubv",
        "outputId": "5496ca82-1570-4623-e6ba-9e03fe677c09"
      },
      "source": [
        "cv2_imshow(mask)\n",
        "cv2.imwrite(\"detectarPedra.jpg\", mask)"
      ],
      "execution_count": null,
      "outputs": [
        {
          "output_type": "display_data",
          "data": {
            "image/png": "[encoded data removed]",
            "text/plain": [
              "<PIL.Image.Image image mode=L size=1033x768 at 0x7F9C494153D0>"
            ]
          },
          "metadata": {
            "tags": []
          }
        },
        {
          "output_type": "execute_result",
          "data": {
            "text/plain": [
              "True"
            ]
          },
          "metadata": {
            "tags": []
          },
          "execution_count": 279
        }
      ]
    },
    {
      "cell_type": "markdown",
      "metadata": {
        "id": "4vKJvUHyA68w"
      },
      "source": [
        "# Dados da imgem"
      ]
    },
    {
      "cell_type": "markdown",
      "metadata": {
        "id": "wD-FW8opHwGQ"
      },
      "source": [
        "Foi preciso alterar informações da imagem para a visualização do mapa ao final :)\n",
        "\n",
        "Por isso o uso do *resize*"
      ]
    },
    {
      "cell_type": "code",
      "metadata": {
        "id": "yGE5cU6gA-oz"
      },
      "source": [
        "\n",
        "img = cv2.imread('/content/detectarPedra.jpg')\n",
        "img = cv2.resize(img, (40, 30))\n"
      ],
      "execution_count": null,
      "outputs": []
    },
    {
      "cell_type": "code",
      "metadata": {
        "id": "Xx2XTlAvBOb8"
      },
      "source": [
        "img = cv2.cvtColor(img, cv2.COLOR_BGR2GRAY)\n",
        "matrix = np.array(img)"
      ],
      "execution_count": null,
      "outputs": []
    },
    {
      "cell_type": "markdown",
      "metadata": {
        "id": "fEJsyZ65JmGx"
      },
      "source": [
        "Plotamos a imagem para capturar a localização dos pontos"
      ]
    },
    {
      "cell_type": "code",
      "metadata": {
        "colab": {
          "base_uri": "https://localhost:8080/",
          "height": 283
        },
        "id": "ls0MqqnYD9mk",
        "outputId": "b8a80c11-2b7c-4f4e-8e67-15d9c2d480c8"
      },
      "source": [
        "plt.imshow(matrix)"
      ],
      "execution_count": null,
      "outputs": [
        {
          "output_type": "execute_result",
          "data": {
            "text/plain": [
              "<matplotlib.image.AxesImage at 0x7f9c4956a850>"
            ]
          },
          "metadata": {
            "tags": []
          },
          "execution_count": 282
        },
        {
          "output_type": "display_data",
          "data": {
            "image/png": "[encoded data removed]",
            "text/plain": [
              "<Figure size 432x288 with 1 Axes>"
            ]
          },
          "metadata": {
            "tags": [],
            "needs_background": "light"
          }
        }
      ]
    },
    {
      "cell_type": "code",
      "metadata": {
        "id": "xM_5ar2X63wC"
      },
      "source": [
        "#pip install pathfinding"
      ],
      "execution_count": null,
      "outputs": []
    },
    {
      "cell_type": "code",
      "metadata": {
        "colab": {
          "base_uri": "https://localhost:8080/"
        },
        "id": "_xZLPleT6Zco",
        "outputId": "41645bf1-a2b7-4e2b-f286-fa089794a5e5"
      },
      "source": [
        "grid = Grid(matrix = matrix)\n",
        "\n",
        "inicio = grid.node(13,26)\n",
        "objetivo = grid.node(35,3)\n",
        "\n",
        "planejador = AStarFinder(diagonal_movement = DiagonalMovement.always)\n",
        "\n",
        "caminho, _runs = planejador.find_path(inicio, objetivo, grid)\n",
        "print(grid.grid_str(path=caminho, start=inicio, end=objetivo))\n"
      ],
      "execution_count": null,
      "outputs": [
        {
          "output_type": "stream",
          "text": [
            "+----------------------------------------+\n",
            "|                                        |\n",
            "|                                        |\n",
            "|                                        |\n",
            "|       #                          xe    |\n",
            "|       ##                  #     x      |\n",
            "|      #####                ##   x       |\n",
            "|       ##                  ####x        |\n",
            "|                            # x         |\n",
            "|#                #           x          |\n",
            "|##               ##         x    ##     |\n",
            "|#                ##        x    ####    |\n",
            "|                          x     ####  ##|\n",
            "|                         x      #### ###|\n",
            "|        #               x       #####   |\n",
            "|        ###            x       #########|\n",
            "|        ###           x        #########|\n",
            "|                     x           ###### |\n",
            "|                    x#           ####   |\n",
            "|                   x ##                 |\n",
            "|                  x  ##                 |\n",
            "|                 x                      |\n",
            "|                x                       |\n",
            "|               x                        |\n",
            "|              x                         |\n",
            "|             x                          |\n",
            "|             x                          |\n",
            "|             s#                         |\n",
            "|                                        |\n",
            "|                                        |\n",
            "|                                        |\n",
            "+----------------------------------------+\n"
          ],
          "name": "stdout"
        }
      ]
    }
  ]
}